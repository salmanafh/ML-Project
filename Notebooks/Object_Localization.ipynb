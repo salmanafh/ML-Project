{
  "nbformat": 4,
  "nbformat_minor": 0,
  "metadata": {
    "colab": {
      "provenance": [],
      "machine_shape": "hm",
      "gpuType": "T4"
    },
    "kernelspec": {
      "name": "python3",
      "display_name": "Python 3"
    },
    "language_info": {
      "name": "python"
    },
    "accelerator": "GPU"
  },
  "cells": [
    {
      "cell_type": "markdown",
      "source": [
        "# Tensorflow and its version"
      ],
      "metadata": {
        "id": "iG6t-6Bk7_yg"
      }
    },
    {
      "cell_type": "code",
      "execution_count": null,
      "metadata": {
        "colab": {
          "base_uri": "https://localhost:8080/"
        },
        "id": "7clnJQ8TmTOV",
        "outputId": "5b9ab2e5-58d9-4308-a7ae-f8f2bb4c0979"
      },
      "outputs": [
        {
          "output_type": "stream",
          "name": "stdout",
          "text": [
            "2.12.0\n"
          ]
        }
      ],
      "source": [
        "import tensorflow as tf\n",
        "\n",
        "print(tf.__version__)"
      ]
    },
    {
      "cell_type": "markdown",
      "source": [
        "# Packages"
      ],
      "metadata": {
        "id": "UXFQ4sOe8G_2"
      }
    },
    {
      "cell_type": "code",
      "source": [
        "import numpy as np\n",
        "import matplotlib.pyplot as plt\n",
        "from tensorflow.keras.layers import Flatten, Dense\n",
        "from tensorflow.keras.models import Model\n",
        "from tensorflow.keras.optimizers import SGD, Adam"
      ],
      "metadata": {
        "id": "lFh_2__SmcaX"
      },
      "execution_count": null,
      "outputs": []
    },
    {
      "cell_type": "markdown",
      "source": [
        "# Transfer Learning"
      ],
      "metadata": {
        "id": "AJXioEBm8LPh"
      }
    },
    {
      "cell_type": "code",
      "source": [
        "vgg = tf.keras.applications.VGG16(input_shape = [100, 100, 3], include_top = False, weights=\"imagenet\")"
      ],
      "metadata": {
        "id": "VgxwXy6Bm5xi",
        "colab": {
          "base_uri": "https://localhost:8080/"
        },
        "outputId": "a56f769a-1a3b-4707-94ba-fb4a68bc164f"
      },
      "execution_count": null,
      "outputs": [
        {
          "output_type": "stream",
          "name": "stdout",
          "text": [
            "Downloading data from https://storage.googleapis.com/tensorflow/keras-applications/vgg16/vgg16_weights_tf_dim_ordering_tf_kernels_notop.h5\n",
            "58889256/58889256 [==============================] - 2s 0us/step\n"
          ]
        }
      ]
    },
    {
      "cell_type": "markdown",
      "source": [
        "# Output"
      ],
      "metadata": {
        "id": "6Ssan98V8NtC"
      }
    },
    {
      "cell_type": "code",
      "source": [
        "x = Flatten()(vgg.output)\n",
        "x = Dense(4, activation = 'sigmoid')(x)\n",
        "model = Model(vgg.input, x)\n",
        "model.summary()"
      ],
      "metadata": {
        "colab": {
          "base_uri": "https://localhost:8080/"
        },
        "id": "PI1EqXU2nfuk",
        "outputId": "718c3c1e-cf68-4719-c718-045673356560"
      },
      "execution_count": null,
      "outputs": [
        {
          "output_type": "stream",
          "name": "stdout",
          "text": [
            "Model: \"model\"\n",
            "_________________________________________________________________\n",
            " Layer (type)                Output Shape              Param #   \n",
            "=================================================================\n",
            " input_1 (InputLayer)        [(None, 200, 200, 3)]     0         \n",
            "                                                                 \n",
            " block1_conv1 (Conv2D)       (None, 200, 200, 64)      1792      \n",
            "                                                                 \n",
            " block1_conv2 (Conv2D)       (None, 200, 200, 64)      36928     \n",
            "                                                                 \n",
            " block1_pool (MaxPooling2D)  (None, 100, 100, 64)      0         \n",
            "                                                                 \n",
            " block2_conv1 (Conv2D)       (None, 100, 100, 128)     73856     \n",
            "                                                                 \n",
            " block2_conv2 (Conv2D)       (None, 100, 100, 128)     147584    \n",
            "                                                                 \n",
            " block2_pool (MaxPooling2D)  (None, 50, 50, 128)       0         \n",
            "                                                                 \n",
            " block3_conv1 (Conv2D)       (None, 50, 50, 256)       295168    \n",
            "                                                                 \n",
            " block3_conv2 (Conv2D)       (None, 50, 50, 256)       590080    \n",
            "                                                                 \n",
            " block3_conv3 (Conv2D)       (None, 50, 50, 256)       590080    \n",
            "                                                                 \n",
            " block3_pool (MaxPooling2D)  (None, 25, 25, 256)       0         \n",
            "                                                                 \n",
            " block4_conv1 (Conv2D)       (None, 25, 25, 512)       1180160   \n",
            "                                                                 \n",
            " block4_conv2 (Conv2D)       (None, 25, 25, 512)       2359808   \n",
            "                                                                 \n",
            " block4_conv3 (Conv2D)       (None, 25, 25, 512)       2359808   \n",
            "                                                                 \n",
            " block4_pool (MaxPooling2D)  (None, 12, 12, 512)       0         \n",
            "                                                                 \n",
            " block5_conv1 (Conv2D)       (None, 12, 12, 512)       2359808   \n",
            "                                                                 \n",
            " block5_conv2 (Conv2D)       (None, 12, 12, 512)       2359808   \n",
            "                                                                 \n",
            " block5_conv3 (Conv2D)       (None, 12, 12, 512)       2359808   \n",
            "                                                                 \n",
            " block5_pool (MaxPooling2D)  (None, 6, 6, 512)         0         \n",
            "                                                                 \n",
            " flatten (Flatten)           (None, 18432)             0         \n",
            "                                                                 \n",
            " dense (Dense)               (None, 4)                 73732     \n",
            "                                                                 \n",
            "=================================================================\n",
            "Total params: 14,788,420\n",
            "Trainable params: 14,788,420\n",
            "Non-trainable params: 0\n",
            "_________________________________________________________________\n"
          ]
        }
      ]
    },
    {
      "cell_type": "markdown",
      "source": [
        "# Data Generator (White Box)"
      ],
      "metadata": {
        "id": "TL7ZzLrX8RFv"
      }
    },
    {
      "cell_type": "code",
      "source": [
        "def image_generator(batch_size = 64):\n",
        "  while True:\n",
        "    for _ in range(50):\n",
        "      x = np.zeros((batch_size, 100, 100, 3))\n",
        "      y = np.zeros((batch_size, 4))\n",
        "\n",
        "      for i in range(batch_size):\n",
        "        row0 = np.random.randint(90)\n",
        "        col0 = np.random.randint(90)\n",
        "        row1 = np.random.randint(row0, 100)\n",
        "        col1 = np.random.randint(col0, 100)\n",
        "        x[i, row0:row1, col0:col1, :] = 1\n",
        "        y[i, 0] = row0/100.\n",
        "        y[i, 1] = col0/100.\n",
        "        y[i, 2] = (row1 - row0)/100.\n",
        "        y[i, 3] = (col1 - col0)/100.\n",
        "      yield x, y"
      ],
      "metadata": {
        "id": "y557edLApKG3"
      },
      "execution_count": null,
      "outputs": []
    },
    {
      "cell_type": "markdown",
      "source": [
        "# Model Complile and Training"
      ],
      "metadata": {
        "id": "IYifISEk8WXa"
      }
    },
    {
      "cell_type": "code",
      "source": [
        "model.compile(loss = \"binary_crossentropy\", optimizer = Adam(learning_rate = 0.001))\n",
        "model.fit(image_generator(),\n",
        "          steps_per_epoch = 50,\n",
        "          epochs = 5)"
      ],
      "metadata": {
        "colab": {
          "base_uri": "https://localhost:8080/",
          "height": 1000
        },
        "id": "xlmlxQ0erQF9",
        "outputId": "9cdc24cf-2275-495f-8b32-ed2a47d1dc1a"
      },
      "execution_count": null,
      "outputs": [
        {
          "output_type": "stream",
          "name": "stdout",
          "text": [
            "Epoch 1/5\n"
          ]
        },
        {
          "output_type": "error",
          "ename": "InvalidArgumentError",
          "evalue": "ignored",
          "traceback": [
            "\u001b[0;31m---------------------------------------------------------------------------\u001b[0m",
            "\u001b[0;31mInvalidArgumentError\u001b[0m                      Traceback (most recent call last)",
            "\u001b[0;32m<ipython-input-7-6a6e19b7b777>\u001b[0m in \u001b[0;36m<cell line: 2>\u001b[0;34m()\u001b[0m\n\u001b[1;32m      1\u001b[0m \u001b[0mmodel\u001b[0m\u001b[0;34m.\u001b[0m\u001b[0mcompile\u001b[0m\u001b[0;34m(\u001b[0m\u001b[0mloss\u001b[0m \u001b[0;34m=\u001b[0m \u001b[0;34m\"binary_crossentropy\"\u001b[0m\u001b[0;34m,\u001b[0m \u001b[0moptimizer\u001b[0m \u001b[0;34m=\u001b[0m \u001b[0mAdam\u001b[0m\u001b[0;34m(\u001b[0m\u001b[0mlearning_rate\u001b[0m \u001b[0;34m=\u001b[0m \u001b[0;36m0.001\u001b[0m\u001b[0;34m)\u001b[0m\u001b[0;34m)\u001b[0m\u001b[0;34m\u001b[0m\u001b[0;34m\u001b[0m\u001b[0m\n\u001b[0;32m----> 2\u001b[0;31m model.fit(image_generator(),\n\u001b[0m\u001b[1;32m      3\u001b[0m           \u001b[0msteps_per_epoch\u001b[0m \u001b[0;34m=\u001b[0m \u001b[0;36m50\u001b[0m\u001b[0;34m,\u001b[0m\u001b[0;34m\u001b[0m\u001b[0;34m\u001b[0m\u001b[0m\n\u001b[1;32m      4\u001b[0m           epochs = 5)\n",
            "\u001b[0;32m/usr/local/lib/python3.10/dist-packages/keras/utils/traceback_utils.py\u001b[0m in \u001b[0;36merror_handler\u001b[0;34m(*args, **kwargs)\u001b[0m\n\u001b[1;32m     68\u001b[0m             \u001b[0;31m# To get the full stack trace, call:\u001b[0m\u001b[0;34m\u001b[0m\u001b[0;34m\u001b[0m\u001b[0m\n\u001b[1;32m     69\u001b[0m             \u001b[0;31m# `tf.debugging.disable_traceback_filtering()`\u001b[0m\u001b[0;34m\u001b[0m\u001b[0;34m\u001b[0m\u001b[0m\n\u001b[0;32m---> 70\u001b[0;31m             \u001b[0;32mraise\u001b[0m \u001b[0me\u001b[0m\u001b[0;34m.\u001b[0m\u001b[0mwith_traceback\u001b[0m\u001b[0;34m(\u001b[0m\u001b[0mfiltered_tb\u001b[0m\u001b[0;34m)\u001b[0m \u001b[0;32mfrom\u001b[0m \u001b[0;32mNone\u001b[0m\u001b[0;34m\u001b[0m\u001b[0;34m\u001b[0m\u001b[0m\n\u001b[0m\u001b[1;32m     71\u001b[0m         \u001b[0;32mfinally\u001b[0m\u001b[0;34m:\u001b[0m\u001b[0;34m\u001b[0m\u001b[0;34m\u001b[0m\u001b[0m\n\u001b[1;32m     72\u001b[0m             \u001b[0;32mdel\u001b[0m \u001b[0mfiltered_tb\u001b[0m\u001b[0;34m\u001b[0m\u001b[0;34m\u001b[0m\u001b[0m\n",
            "\u001b[0;32m/usr/local/lib/python3.10/dist-packages/tensorflow/python/eager/execute.py\u001b[0m in \u001b[0;36mquick_execute\u001b[0;34m(op_name, num_outputs, inputs, attrs, ctx, name)\u001b[0m\n\u001b[1;32m     50\u001b[0m   \u001b[0;32mtry\u001b[0m\u001b[0;34m:\u001b[0m\u001b[0;34m\u001b[0m\u001b[0;34m\u001b[0m\u001b[0m\n\u001b[1;32m     51\u001b[0m     \u001b[0mctx\u001b[0m\u001b[0;34m.\u001b[0m\u001b[0mensure_initialized\u001b[0m\u001b[0;34m(\u001b[0m\u001b[0;34m)\u001b[0m\u001b[0;34m\u001b[0m\u001b[0;34m\u001b[0m\u001b[0m\n\u001b[0;32m---> 52\u001b[0;31m     tensors = pywrap_tfe.TFE_Py_Execute(ctx._handle, device_name, op_name,\n\u001b[0m\u001b[1;32m     53\u001b[0m                                         inputs, attrs, num_outputs)\n\u001b[1;32m     54\u001b[0m   \u001b[0;32mexcept\u001b[0m \u001b[0mcore\u001b[0m\u001b[0;34m.\u001b[0m\u001b[0m_NotOkStatusException\u001b[0m \u001b[0;32mas\u001b[0m \u001b[0me\u001b[0m\u001b[0;34m:\u001b[0m\u001b[0;34m\u001b[0m\u001b[0;34m\u001b[0m\u001b[0m\n",
            "\u001b[0;31mInvalidArgumentError\u001b[0m: Graph execution error:\n\nDetected at node 'model/dense/MatMul' defined at (most recent call last):\n    File \"/usr/lib/python3.10/runpy.py\", line 196, in _run_module_as_main\n      return _run_code(code, main_globals, None,\n    File \"/usr/lib/python3.10/runpy.py\", line 86, in _run_code\n      exec(code, run_globals)\n    File \"/usr/local/lib/python3.10/dist-packages/ipykernel_launcher.py\", line 16, in <module>\n      app.launch_new_instance()\n    File \"/usr/local/lib/python3.10/dist-packages/traitlets/config/application.py\", line 992, in launch_instance\n      app.start()\n    File \"/usr/local/lib/python3.10/dist-packages/ipykernel/kernelapp.py\", line 619, in start\n      self.io_loop.start()\n    File \"/usr/local/lib/python3.10/dist-packages/tornado/platform/asyncio.py\", line 195, in start\n      self.asyncio_loop.run_forever()\n    File \"/usr/lib/python3.10/asyncio/base_events.py\", line 603, in run_forever\n      self._run_once()\n    File \"/usr/lib/python3.10/asyncio/base_events.py\", line 1909, in _run_once\n      handle._run()\n    File \"/usr/lib/python3.10/asyncio/events.py\", line 80, in _run\n      self._context.run(self._callback, *self._args)\n    File \"/usr/local/lib/python3.10/dist-packages/tornado/ioloop.py\", line 685, in <lambda>\n      lambda f: self._run_callback(functools.partial(callback, future))\n    File \"/usr/local/lib/python3.10/dist-packages/tornado/ioloop.py\", line 738, in _run_callback\n      ret = callback()\n    File \"/usr/local/lib/python3.10/dist-packages/tornado/gen.py\", line 825, in inner\n      self.ctx_run(self.run)\n    File \"/usr/local/lib/python3.10/dist-packages/tornado/gen.py\", line 786, in run\n      yielded = self.gen.send(value)\n    File \"/usr/local/lib/python3.10/dist-packages/ipykernel/kernelbase.py\", line 361, in process_one\n      yield gen.maybe_future(dispatch(*args))\n    File \"/usr/local/lib/python3.10/dist-packages/tornado/gen.py\", line 234, in wrapper\n      yielded = ctx_run(next, result)\n    File \"/usr/local/lib/python3.10/dist-packages/ipykernel/kernelbase.py\", line 261, in dispatch_shell\n      yield gen.maybe_future(handler(stream, idents, msg))\n    File \"/usr/local/lib/python3.10/dist-packages/tornado/gen.py\", line 234, in wrapper\n      yielded = ctx_run(next, result)\n    File \"/usr/local/lib/python3.10/dist-packages/ipykernel/kernelbase.py\", line 539, in execute_request\n      self.do_execute(\n    File \"/usr/local/lib/python3.10/dist-packages/tornado/gen.py\", line 234, in wrapper\n      yielded = ctx_run(next, result)\n    File \"/usr/local/lib/python3.10/dist-packages/ipykernel/ipkernel.py\", line 302, in do_execute\n      res = shell.run_cell(code, store_history=store_history, silent=silent)\n    File \"/usr/local/lib/python3.10/dist-packages/ipykernel/zmqshell.py\", line 539, in run_cell\n      return super(ZMQInteractiveShell, self).run_cell(*args, **kwargs)\n    File \"/usr/local/lib/python3.10/dist-packages/IPython/core/interactiveshell.py\", line 2975, in run_cell\n      result = self._run_cell(\n    File \"/usr/local/lib/python3.10/dist-packages/IPython/core/interactiveshell.py\", line 3030, in _run_cell\n      return runner(coro)\n    File \"/usr/local/lib/python3.10/dist-packages/IPython/core/async_helpers.py\", line 78, in _pseudo_sync_runner\n      coro.send(None)\n    File \"/usr/local/lib/python3.10/dist-packages/IPython/core/interactiveshell.py\", line 3257, in run_cell_async\n      has_raised = await self.run_ast_nodes(code_ast.body, cell_name,\n    File \"/usr/local/lib/python3.10/dist-packages/IPython/core/interactiveshell.py\", line 3473, in run_ast_nodes\n      if (await self.run_code(code, result,  async_=asy)):\n    File \"/usr/local/lib/python3.10/dist-packages/IPython/core/interactiveshell.py\", line 3553, in run_code\n      exec(code_obj, self.user_global_ns, self.user_ns)\n    File \"<ipython-input-7-6a6e19b7b777>\", line 2, in <cell line: 2>\n      model.fit(image_generator(),\n    File \"/usr/local/lib/python3.10/dist-packages/keras/utils/traceback_utils.py\", line 65, in error_handler\n      return fn(*args, **kwargs)\n    File \"/usr/local/lib/python3.10/dist-packages/keras/engine/training.py\", line 1685, in fit\n      tmp_logs = self.train_function(iterator)\n    File \"/usr/local/lib/python3.10/dist-packages/keras/engine/training.py\", line 1284, in train_function\n      return step_function(self, iterator)\n    File \"/usr/local/lib/python3.10/dist-packages/keras/engine/training.py\", line 1268, in step_function\n      outputs = model.distribute_strategy.run(run_step, args=(data,))\n    File \"/usr/local/lib/python3.10/dist-packages/keras/engine/training.py\", line 1249, in run_step\n      outputs = model.train_step(data)\n    File \"/usr/local/lib/python3.10/dist-packages/keras/engine/training.py\", line 1050, in train_step\n      y_pred = self(x, training=True)\n    File \"/usr/local/lib/python3.10/dist-packages/keras/utils/traceback_utils.py\", line 65, in error_handler\n      return fn(*args, **kwargs)\n    File \"/usr/local/lib/python3.10/dist-packages/keras/engine/training.py\", line 558, in __call__\n      return super().__call__(*args, **kwargs)\n    File \"/usr/local/lib/python3.10/dist-packages/keras/utils/traceback_utils.py\", line 65, in error_handler\n      return fn(*args, **kwargs)\n    File \"/usr/local/lib/python3.10/dist-packages/keras/engine/base_layer.py\", line 1145, in __call__\n      outputs = call_fn(inputs, *args, **kwargs)\n    File \"/usr/local/lib/python3.10/dist-packages/keras/utils/traceback_utils.py\", line 96, in error_handler\n      return fn(*args, **kwargs)\n    File \"/usr/local/lib/python3.10/dist-packages/keras/engine/functional.py\", line 512, in call\n      return self._run_internal_graph(inputs, training=training, mask=mask)\n    File \"/usr/local/lib/python3.10/dist-packages/keras/engine/functional.py\", line 669, in _run_internal_graph\n      outputs = node.layer(*args, **kwargs)\n    File \"/usr/local/lib/python3.10/dist-packages/keras/utils/traceback_utils.py\", line 65, in error_handler\n      return fn(*args, **kwargs)\n    File \"/usr/local/lib/python3.10/dist-packages/keras/engine/base_layer.py\", line 1145, in __call__\n      outputs = call_fn(inputs, *args, **kwargs)\n    File \"/usr/local/lib/python3.10/dist-packages/keras/utils/traceback_utils.py\", line 96, in error_handler\n      return fn(*args, **kwargs)\n    File \"/usr/local/lib/python3.10/dist-packages/keras/layers/core/dense.py\", line 241, in call\n      outputs = tf.matmul(a=inputs, b=self.kernel)\nNode: 'model/dense/MatMul'\nMatrix size-incompatible: In[0]: [64,4608], In[1]: [18432,4]\n\t [[{{node model/dense/MatMul}}]] [Op:__inference_train_function_3173]"
          ]
        }
      ]
    },
    {
      "cell_type": "markdown",
      "source": [
        "# Predicting"
      ],
      "metadata": {
        "id": "OgpXb_LI8cW3"
      }
    },
    {
      "cell_type": "code",
      "source": [
        "from matplotlib.patches import Rectangle\n",
        "\n",
        "x = np.zeros((100, 100, 3))\n",
        "row0 = np.random.randint(90)\n",
        "col0 = np.random.randint(90)\n",
        "row1 = np.random.randint(row0, 100)\n",
        "col1 = np.random.randint(col0, 100)\n",
        "x[row0:row1, col0:col1, :] = 1\n",
        "print(row0, row1, col0, col1)\n",
        "\n",
        "X = np.expand_dims(x, 0)\n",
        "pred = model.predict(X)[0]\n",
        "print(pred)\n",
        "print(x.shape)\n",
        "fig, ax = plt.subplots(1)\n",
        "ax.imshow(x)\n",
        "rect = Rectangle((pred[1]*100, pred[0]*100),\n",
        "                pred[3]*100, pred[2]*100,\n",
        "                linewidth = 1, edgecolor = 'r', facecolor = 'none')\n",
        "ax.add_patch(rect)\n",
        "plt.show()"
      ],
      "metadata": {
        "id": "14wkEYb6t3gk"
      },
      "execution_count": null,
      "outputs": []
    },
    {
      "cell_type": "markdown",
      "source": [
        "# Charmander Image"
      ],
      "metadata": {
        "id": "YRhCZ7Lr8f8W"
      }
    },
    {
      "cell_type": "code",
      "source": [
        "!wget -nc https://lazyprogrammer.me/course_files/charmander-tight.png"
      ],
      "metadata": {
        "id": "GZjd65oZ2k8b",
        "colab": {
          "base_uri": "https://localhost:8080/"
        },
        "outputId": "a907e7de-08df-48c4-839b-1f400f273401"
      },
      "execution_count": null,
      "outputs": [
        {
          "output_type": "stream",
          "name": "stdout",
          "text": [
            "--2023-07-17 04:20:46--  https://lazyprogrammer.me/course_files/charmander-tight.png\n",
            "Resolving lazyprogrammer.me (lazyprogrammer.me)... 172.67.213.166, 104.21.23.210, 2606:4700:3031::6815:17d2, ...\n",
            "Connecting to lazyprogrammer.me (lazyprogrammer.me)|172.67.213.166|:443... connected.\n",
            "HTTP request sent, awaiting response... 403 Forbidden\n",
            "2023-07-17 04:20:46 ERROR 403: Forbidden.\n",
            "\n"
          ]
        }
      ]
    },
    {
      "cell_type": "code",
      "source": [
        "from imageio.v2 import imread\n",
        "\n",
        "ch = imread(\"/content/charmander-tight.png\")\n",
        "print(ch.shape)\n",
        "plt.imshow(ch);"
      ],
      "metadata": {
        "colab": {
          "base_uri": "https://localhost:8080/",
          "height": 449
        },
        "id": "zesxf5b3_SCQ",
        "outputId": "3fbc816c-f6c9-4537-81c9-a3c7b30c11c9"
      },
      "execution_count": null,
      "outputs": [
        {
          "output_type": "stream",
          "name": "stdout",
          "text": [
            "(56, 44, 4)\n"
          ]
        },
        {
          "output_type": "display_data",
          "data": {
            "text/plain": [
              "<Figure size 640x480 with 1 Axes>"
            ],
            "image/png": "[encoded data removed]"
          },
          "metadata": {}
        }
      ]
    },
    {
      "cell_type": "markdown",
      "source": [
        "# Image Generator (Charmander)"
      ],
      "metadata": {
        "id": "w7UOBICN8jTY"
      }
    },
    {
      "cell_type": "code",
      "source": [
        "ch = np.array(ch)\n",
        "ch_h, ch_w, _ = ch.shape\n",
        "\n",
        "def pokemon_generator(batch_size = 64):\n",
        "  while True:\n",
        "    for _ in range(50):\n",
        "      x = np.zeros((batch_size, 200, 200, 3))\n",
        "      y = np.zeros((batch_size, 4))\n",
        "\n",
        "      for i in range(batch_size):\n",
        "        row0 = np.random.randint(200 - ch_h)\n",
        "        col0 = np.random.randint(200 - ch_w)\n",
        "        row1 = row0 + ch_h\n",
        "        col1 = col0 + ch_w\n",
        "        x[i, row0:row1, col0:col1, :] = ch[:, :, :3]\n",
        "        y[i, 0] = row0/200\n",
        "        y[i, 1] = col0/200\n",
        "        y[i, 2] = (row1 - row0)/200\n",
        "        y[i, 3] = (col1 - col0)/200\n",
        "      yield x/255., y"
      ],
      "metadata": {
        "id": "UQz26mTG_tcg"
      },
      "execution_count": null,
      "outputs": []
    },
    {
      "cell_type": "markdown",
      "source": [
        "# Model Compile and Training"
      ],
      "metadata": {
        "id": "hwMfrcqH8rOZ"
      }
    },
    {
      "cell_type": "code",
      "source": [
        "vgg = tf.keras.applications.VGG16(input_shape = [200, 200, 3], include_top = False, weights=\"imagenet\")"
      ],
      "metadata": {
        "id": "X_RZ8I7WLnYK"
      },
      "execution_count": null,
      "outputs": []
    },
    {
      "cell_type": "code",
      "source": [
        "model.compile(loss = \"binary_crossentropy\", optimizer = Adam(learning_rate = 0.001))\n",
        "model.fit(pokemon_generator(),\n",
        "          steps_per_epoch = 50,\n",
        "          epochs = 5)"
      ],
      "metadata": {
        "id": "1z55DsnK8ozR",
        "colab": {
          "base_uri": "https://localhost:8080/"
        },
        "outputId": "9f375924-763a-43ba-cb06-c45e6eee073d"
      },
      "execution_count": null,
      "outputs": [
        {
          "output_type": "stream",
          "name": "stdout",
          "text": [
            "Epoch 1/5\n",
            "50/50 [==============================] - 53s 587ms/step - loss: 1.0709\n",
            "Epoch 2/5\n",
            "50/50 [==============================] - 29s 589ms/step - loss: 0.5558\n",
            "Epoch 3/5\n",
            "50/50 [==============================] - 30s 596ms/step - loss: 0.5546\n",
            "Epoch 4/5\n",
            "50/50 [==============================] - 30s 602ms/step - loss: 0.5535\n",
            "Epoch 5/5\n",
            "50/50 [==============================] - 30s 607ms/step - loss: 0.5533\n"
          ]
        },
        {
          "output_type": "execute_result",
          "data": {
            "text/plain": [
              "<keras.callbacks.History at 0x7b2d804303a0>"
            ]
          },
          "metadata": {},
          "execution_count": 17
        }
      ]
    },
    {
      "cell_type": "markdown",
      "source": [
        "# Predicting"
      ],
      "metadata": {
        "id": "pFVsvxtb8thw"
      }
    },
    {
      "cell_type": "code",
      "source": [
        "from matplotlib.patches import Rectangle\n",
        "\n",
        "x = np.zeros((200, 200, 3))\n",
        "row0 = np.random.randint(200 - ch_h)\n",
        "col0 = np.random.randint(200 - ch_w)\n",
        "row1 = row0 + ch_h\n",
        "col1 = col0 + ch_w\n",
        "x[row0:row1, col0:col1, :] = ch[:, :, :3]\n",
        "print(\"True:\", row0, row1, col0, col1)\n",
        "\n",
        "X = np.expand_dims(x, 0) / 255.\n",
        "pred = model.predict(X)[0]\n",
        "print(\"Pred: \", int(pred[0]*200), int(pred[3]*200 + row0), int(pred[1]*200), int(pred[2]*200 + col0))\n",
        "fig, ax = plt.subplots(1)\n",
        "ax.imshow(x.astype(np.uint8))\n",
        "rect = Rectangle((pred[1]*200, pred[0]*200),\n",
        "                pred[3]*200, pred[2]*200,\n",
        "                linewidth = 1, edgecolor = 'r', facecolor = 'none')\n",
        "ax.add_patch(rect)\n",
        "plt.show()"
      ],
      "metadata": {
        "colab": {
          "base_uri": "https://localhost:8080/",
          "height": 486
        },
        "id": "4HmRFnB2hA2G",
        "outputId": "e859cd56-08c1-4872-981d-2369e3bf6cea"
      },
      "execution_count": null,
      "outputs": [
        {
          "output_type": "stream",
          "name": "stdout",
          "text": [
            "True: 89 145 80 124\n",
            "1/1 [==============================] - 0s 31ms/step\n",
            "Pred:  90 133 80 136\n"
          ]
        },
        {
          "output_type": "display_data",
          "data": {
            "text/plain": [
              "<Figure size 640x480 with 1 Axes>"
            ],
            "image/png": "[encoded data removed]"
          },
          "metadata": {}
        }
      ]
    },
    {
      "cell_type": "markdown",
      "source": [
        "# Image Generator (Pokemon Resized)"
      ],
      "metadata": {
        "id": "x1WoFmzbEvmn"
      }
    },
    {
      "cell_type": "code",
      "source": [
        "from skimage.transform import resize\n",
        "\n",
        "def pokemon_generator_resized(batch_size = 64):\n",
        "  while True:\n",
        "    for _ in range(50):\n",
        "      x = np.zeros((batch_size, 200, 200, 3))\n",
        "      y = np.zeros((batch_size, 4))\n",
        "\n",
        "      for i in range(batch_size):\n",
        "        scale = 0.5 + np.random.random()\n",
        "        new_height = int(ch_h * scale)\n",
        "        new_width = int(ch_w * scale)\n",
        "        obj = resize(ch,\n",
        "                     (new_height, new_width),\n",
        "                     preserve_range = True).astype(np.uint8)\n",
        "        row0 = np.random.randint(200 - new_height)\n",
        "        col0 = np.random.randint(200 - new_width)\n",
        "        row1 = row0 + new_height\n",
        "        col1 = col0 + new_width\n",
        "        x[i, row0:row1, col0:col1, :] = obj[:, :, :3]\n",
        "        y[i, 0] = row0/200\n",
        "        y[i, 1] = col0/200\n",
        "        y[i, 2] = (row1 - row0)/200\n",
        "        y[i, 3] = (col1 - col0)/200\n",
        "      yield x/255., y"
      ],
      "metadata": {
        "id": "3N7w40g4lcVy"
      },
      "execution_count": null,
      "outputs": []
    },
    {
      "cell_type": "code",
      "source": [
        "model.compile(loss = \"binary_crossentropy\", optimizer = Adam(learning_rate = 0.0001))\n",
        "model.fit(pokemon_generator_resized(),\n",
        "          steps_per_epoch = 50,\n",
        "          epochs = 5)"
      ],
      "metadata": {
        "colab": {
          "base_uri": "https://localhost:8080/"
        },
        "id": "m9oGxJiRD956",
        "outputId": "5a1cb44a-d20a-4c9a-808d-91533700e03d"
      },
      "execution_count": null,
      "outputs": [
        {
          "output_type": "stream",
          "name": "stdout",
          "text": [
            "Epoch 1/5\n",
            "50/50 [==============================] - 34s 581ms/step - loss: 0.5500\n",
            "Epoch 2/5\n",
            "50/50 [==============================] - 29s 589ms/step - loss: 0.5468\n",
            "Epoch 3/5\n",
            "50/50 [==============================] - 30s 595ms/step - loss: 0.5453\n",
            "Epoch 4/5\n",
            "50/50 [==============================] - 30s 600ms/step - loss: 0.5442\n",
            "Epoch 5/5\n",
            "50/50 [==============================] - 30s 606ms/step - loss: 0.5434\n"
          ]
        },
        {
          "output_type": "execute_result",
          "data": {
            "text/plain": [
              "<keras.callbacks.History at 0x7b2d5c62a7a0>"
            ]
          },
          "metadata": {},
          "execution_count": 63
        }
      ]
    },
    {
      "cell_type": "code",
      "source": [
        "scale = 0.5 + np.random.random()\n",
        "new_height = int(ch_h * scale)\n",
        "new_width = int(ch_w * scale)\n",
        "obj = resize(ch,\n",
        "            (new_height, new_width),\n",
        "            preserve_range = True).astype(np.uint8)\n",
        "x = np.zeros((200, 200, 3))\n",
        "row0 = np.random.randint(200 - new_height)\n",
        "col0 = np.random.randint(200 - new_width)\n",
        "row1 = row0 + new_height\n",
        "col1 = col0 + new_width\n",
        "x[row0:row1, col0:col1, :] = obj[:, :, :3]\n",
        "print(\"True:\", row0, row1, col0, col1)\n",
        "\n",
        "X = np.expand_dims(x, 0) / 255.\n",
        "pred = model.predict(X)[0]\n",
        "print(\"Pred: \", int(pred[0]*200), int(pred[3]*200 + row0), int(pred[1]*200), int(pred[2]*200 + col0))\n",
        "fig, ax = plt.subplots(1)\n",
        "ax.imshow(x.astype(np.uint8))\n",
        "rect = Rectangle((pred[1]*200, pred[0]*200),\n",
        "                pred[3]*200, pred[2]*200,\n",
        "                linewidth = 1, edgecolor = 'r', facecolor = 'none')\n",
        "ax.add_patch(rect)\n",
        "plt.show()"
      ],
      "metadata": {
        "colab": {
          "base_uri": "https://localhost:8080/",
          "height": 486
        },
        "id": "jrGv8BHtEuIh",
        "outputId": "bab8982e-3be5-410e-a327-141089df58f0"
      },
      "execution_count": null,
      "outputs": [
        {
          "output_type": "stream",
          "name": "stdout",
          "text": [
            "True: 127 181 43 86\n",
            "1/1 [==============================] - 0s 22ms/step\n",
            "Pred:  127 170 46 101\n"
          ]
        },
        {
          "output_type": "display_data",
          "data": {
            "text/plain": [
              "<Figure size 640x480 with 1 Axes>"
            ],
            "image/png": "[encoded data removed]"
          },
          "metadata": {}
        }
      ]
    },
    {
      "cell_type": "markdown",
      "source": [
        "# Image Generator (Pokemon Resized and Flipped)"
      ],
      "metadata": {
        "id": "OVtwiLMBLxfk"
      }
    },
    {
      "cell_type": "code",
      "source": [
        "from skimage.transform import resize\n",
        "\n",
        "def pokemon_generator_resized(batch_size = 64):\n",
        "  while True:\n",
        "    for _ in range(50):\n",
        "      x = np.zeros((batch_size, 200, 200, 3))\n",
        "      y = np.zeros((batch_size, 4))\n",
        "\n",
        "      for i in range(batch_size):\n",
        "        scale = 0.5 + np.random.random()\n",
        "        new_height = int(ch_h * scale)\n",
        "        new_width = int(ch_w * scale)\n",
        "        obj = resize(ch,\n",
        "                     (new_height, new_width),\n",
        "                     preserve_range = True).astype(np.uint8)\n",
        "        if np.random.random() < 0.5:\n",
        "          obj = np.fliplr(obj)\n",
        "        else:\n",
        "          obk = obj\n",
        "        row0 = np.random.randint(200 - new_height)\n",
        "        col0 = np.random.randint(200 - new_width)\n",
        "        row1 = row0 + new_height\n",
        "        col1 = col0 + new_width\n",
        "        x[i, row0:row1, col0:col1, :] = obj[:, :, :3]\n",
        "        y[i, 0] = row0/200\n",
        "        y[i, 1] = col0/200\n",
        "        y[i, 2] = (row1 - row0)/200\n",
        "        y[i, 3] = (col1 - col0)/200\n",
        "      yield x/255., y"
      ],
      "metadata": {
        "id": "dpgoc9HkIEiG"
      },
      "execution_count": null,
      "outputs": []
    },
    {
      "cell_type": "code",
      "source": [
        "model.compile(loss = \"binary_crossentropy\", optimizer = Adam(learning_rate = 0.0001))\n",
        "model.fit(pokemon_generator_resized(),\n",
        "          steps_per_epoch = 50,\n",
        "          epochs = 5)"
      ],
      "metadata": {
        "colab": {
          "base_uri": "https://localhost:8080/"
        },
        "id": "povhNBEpMRmC",
        "outputId": "99f17bbb-1a71-4620-cc92-91bbb7ceb35e"
      },
      "execution_count": null,
      "outputs": [
        {
          "output_type": "stream",
          "name": "stdout",
          "text": [
            "Epoch 1/5\n",
            "50/50 [==============================] - 35s 581ms/step - loss: 0.5460\n",
            "Epoch 2/5\n",
            "50/50 [==============================] - 29s 588ms/step - loss: 0.5434\n",
            "Epoch 3/5\n",
            "50/50 [==============================] - 30s 594ms/step - loss: 0.5443\n",
            "Epoch 4/5\n",
            "50/50 [==============================] - 30s 599ms/step - loss: 0.5449\n",
            "Epoch 5/5\n",
            "50/50 [==============================] - 30s 607ms/step - loss: 0.5453\n"
          ]
        },
        {
          "output_type": "execute_result",
          "data": {
            "text/plain": [
              "<keras.callbacks.History at 0x7b2d5c50d480>"
            ]
          },
          "metadata": {},
          "execution_count": 67
        }
      ]
    },
    {
      "cell_type": "code",
      "source": [
        "scale = 0.5 + np.random.random()\n",
        "new_height = int(ch_h * scale)\n",
        "new_width = int(ch_w * scale)\n",
        "obj = resize(ch,\n",
        "            (new_height, new_width),\n",
        "            preserve_range = True).astype(np.uint8)\n",
        "if np.random.random() < 0.5:\n",
        "  obj = np.fliplr(obj)\n",
        "else:\n",
        "  obk = obj\n",
        "x = np.zeros((200, 200, 3))\n",
        "row0 = np.random.randint(200 - new_height)\n",
        "col0 = np.random.randint(200 - new_width)\n",
        "row1 = row0 + new_height\n",
        "col1 = col0 + new_width\n",
        "x[row0:row1, col0:col1, :] = obj[:, :, :3]\n",
        "print(\"True:\", row0, row1, col0, col1)\n",
        "\n",
        "X = np.expand_dims(x, 0) / 255.\n",
        "pred = model.predict(X)[0]\n",
        "print(\"Pred: \", int(pred[0]*200), int(pred[3]*200 + row0), int(pred[1]*200), int(pred[2]*200 + col0))\n",
        "fig, ax = plt.subplots(1)\n",
        "ax.imshow(x.astype(np.uint8))\n",
        "rect = Rectangle((pred[1]*200, pred[0]*200),\n",
        "                pred[3]*200, pred[2]*200,\n",
        "                linewidth = 1, edgecolor = 'r', facecolor = 'none')\n",
        "ax.add_patch(rect)\n",
        "plt.show()"
      ],
      "metadata": {
        "colab": {
          "base_uri": "https://localhost:8080/",
          "height": 486
        },
        "id": "8CLs49kDMULf",
        "outputId": "de53c70b-a215-4835-afbf-56c2e37b8698"
      },
      "execution_count": null,
      "outputs": [
        {
          "output_type": "stream",
          "name": "stdout",
          "text": [
            "True: 26 98 142 198\n",
            "1/1 [==============================] - 0s 22ms/step\n",
            "Pred:  25 81 145 214\n"
          ]
        },
        {
          "output_type": "display_data",
          "data": {
            "text/plain": [
              "<Figure size 640x480 with 1 Axes>"
            ],
            "image/png": "[encoded data removed]"
          },
          "metadata": {}
        }
      ]
    },
    {
      "cell_type": "code",
      "source": [],
      "metadata": {
        "id": "OLPR8VazM7Cw"
      },
      "execution_count": null,
      "outputs": []
    }
  ]
}